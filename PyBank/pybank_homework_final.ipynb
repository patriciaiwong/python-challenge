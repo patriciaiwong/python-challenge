{
 "cells": [
  {
   "cell_type": "code",
   "execution_count": 1,
   "metadata": {},
   "outputs": [
    {
     "name": "stdout",
     "output_type": "stream",
     "text": [
      "Financial Analysis\n",
      "-------------------------------------\n",
      "Total Months: 86\n",
      "Total: $38382578\n",
      "Average of the Changes in Profit/Losses: $-2315.12\n",
      "Greatest Increase in Profits: $1926159.044    Sep-2013\n",
      "Name: Date, dtype: object\n",
      "Greatest Decrease in Profits: $-2196167.025    Feb-2012\n",
      "Name: Date, dtype: object\n"
     ]
    }
   ],
   "source": [
    "import pandas as pd\n",
    "\n",
    "budget_csv = \"budget_data.csv\"\n",
    "budget_df = pd.read_csv(budget_csv, encoding=\"ISO-8859-1\")\n",
    "\n",
    "number_of_months = len(budget_df)\n",
    "total = budget_df[\"Profit/Losses\"].sum()\n",
    "\n",
    "delta = budget_df[\"Profit/Losses\"].diff()\n",
    "\n",
    "budget_df[\"Change\"] = delta\n",
    "\n",
    "average_delta = budget_df[\"Change\"].mean(skipna = True)\n",
    "\n",
    "maxdelta = budget_df[\"Change\"].max()\n",
    "mindelta = budget_df[\"Change\"].min()\n",
    "\n",
    "\n",
    "greastest_increase = budget_df.loc[budget_df['Change'] == maxdelta, 'Date']\n",
    "greastest_decrease = budget_df.loc[budget_df['Change'] == mindelta, 'Date']\n",
    "\n",
    "string_months = \"Total Months: \" + str(number_of_months)\n",
    "total_print = \"Total: $\" + str(total)\n",
    "av_delta_print = \"Average of the Changes in Profit/Losses: $\" + str(\"{0:.2f}\".format(average_delta))\n",
    "gip = \"Greatest Increase in Profits: $\" + str(maxdelta) + str(greastest_decrease)\n",
    "gdp = \"Greatest Decrease in Profits: $\" + str(mindelta) + str(greastest_increase)\n",
    "\n",
    "print(\"Financial Analysis\")\n",
    "print(\"-------------------------------------\")\n",
    "print(string_months)\n",
    "print(total_print)\n",
    "print(av_delta_print)\n",
    "print(gip)\n",
    "print(gdp)"
   ]
  },
  {
   "cell_type": "code",
   "execution_count": 2,
   "metadata": {},
   "outputs": [],
   "source": [
    "file = open(\"Summary.txt\", \"w\") \n",
    "file.write(\"Financial Analysis\")\n",
    "file.write(\"\\n-------------------------------------\\n\")\n",
    "file.write(string_months)\n",
    "file.write(\"\\n\")\n",
    "file.write(total_print)\n",
    "file.write(\"\\n\")\n",
    "file.write(av_delta_print)\n",
    "file.write(\"\\n\")\n",
    "file.write(gip)\n",
    "file.write(\"\\n\")\n",
    "file.write(gdp)\n",
    "file.close()"
   ]
  }
 ],
 "metadata": {
  "kernelspec": {
   "display_name": "Python 3",
   "language": "python",
   "name": "python3"
  },
  "language_info": {
   "codemirror_mode": {
    "name": "ipython",
    "version": 3
   },
   "file_extension": ".py",
   "mimetype": "text/x-python",
   "name": "python",
   "nbconvert_exporter": "python",
   "pygments_lexer": "ipython3",
   "version": "3.7.3"
  }
 },
 "nbformat": 4,
 "nbformat_minor": 2
}
