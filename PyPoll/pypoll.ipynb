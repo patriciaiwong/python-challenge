{
 "cells": [
  {
   "cell_type": "code",
   "execution_count": 7,
   "metadata": {
    "scrolled": true
   },
   "outputs": [
    {
     "name": "stdout",
     "output_type": "stream",
     "text": [
      "Election Results\n",
      "---------------------\n",
      "Total Votes: 3521001\n",
      "---------------------\n",
      "          Percentage  Total Votes\n",
      "Khan            63.0      2218231\n",
      "Correy          20.0       704200\n",
      "Li              14.0       492940\n",
      "O'Tooley         3.0       105630\n",
      "---------------------\n",
      "Winner: Khan    63.0\n",
      "Name: Percentage, dtype: float64%\n"
     ]
    }
   ],
   "source": [
    "import pandas as pd\n",
    "\n",
    "election_csv = \"election_data.csv\"\n",
    "election_df = pd.read_csv(election_csv, encoding=\"ISO-8859-1\")\n",
    "\n",
    "totalvotes = len(election_df)\n",
    "\n",
    "count = election_df[\"Candidate\"].value_counts()\n",
    "\n",
    "unique = election_df[\"Candidate\"].unique()\n",
    "\n",
    "percent = count/totalvotes * 100\n",
    "\n",
    "results = pd.DataFrame({\"Percentage\": percent.round(), \"Total Votes\": count})\n",
    "\n",
    "maxvotes = results[\"Total Votes\"].max()\n",
    "winner = results.loc[results['Total Votes'] == maxvotes, \"Percentage\"]\n",
    "\n",
    "num1 = \"Winner: \" + str(winner) + \"%\"\n",
    "total= \"Total Votes: \" + str(totalvotes)\n",
    "sresults = results.to_string()\n",
    "\n",
    "print(\"Election Results\")\n",
    "print(\"---------------------\")\n",
    "print(total)\n",
    "print(\"---------------------\")\n",
    "print(results)\n",
    "print(\"---------------------\")\n",
    "print(num1)\n",
    "\n",
    "\n"
   ]
  },
  {
   "cell_type": "code",
   "execution_count": 9,
   "metadata": {},
   "outputs": [],
   "source": [
    "file = open(\"election_results.txt\", \"w\") \n",
    "file.write(\"Election Results\")\n",
    "file.write(\"\\n-------------------------------------\\n\")\n",
    "file.write(total)\n",
    "file.write(\"\\n\")\n",
    "file.write(sresults)\n",
    "file.write(\"\\n\")\n",
    "file.write(num1)\n",
    "file.write(\"\\n-------------------------------------\")\n",
    "file.close()\n"
   ]
  }
 ],
 "metadata": {
  "kernelspec": {
   "display_name": "Python 3",
   "language": "python",
   "name": "python3"
  },
  "language_info": {
   "codemirror_mode": {
    "name": "ipython",
    "version": 3
   },
   "file_extension": ".py",
   "mimetype": "text/x-python",
   "name": "python",
   "nbconvert_exporter": "python",
   "pygments_lexer": "ipython3",
   "version": "3.7.3"
  }
 },
 "nbformat": 4,
 "nbformat_minor": 2
}
